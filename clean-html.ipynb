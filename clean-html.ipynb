{
 "cells": [
  {
   "cell_type": "code",
   "execution_count": 1,
   "metadata": {
    "collapsed": false
   },
   "outputs": [],
   "source": [
    "import re\n",
    "import os\n",
    "from bs4 import BeautifulSoup"
   ]
  },
  {
   "cell_type": "code",
   "execution_count": 2,
   "metadata": {
    "collapsed": false
   },
   "outputs": [],
   "source": [
    "home_dir = '.'\n",
    "html_dir = 'scraped-html'\n",
    "txt_dir = 'plaintext'\n",
    "\n",
    "def get_fan_work(fan_html_name):\n",
    "    with open(fan_html_name) as fan_in:\n",
    "        fan_html = BeautifulSoup(fan_in.read(), \"lxml\")\n",
    "        fan_txt = fan_html.find(id='workskin')\n",
    "        if fan_txt is None:\n",
    "            return ''\n",
    "\n",
    "    fan_txt = ' '.join(fan_txt.strings)\n",
    "    fan_txt = re.split(r'Work Text\\b([\\s:]*)', fan_txt, maxsplit=1)[-1]\n",
    "    fan_txt = re.split(r'Chapter 1\\b([\\s:]*)', fan_txt, maxsplit=1)[-1]\n",
    "    fan_txt = fan_txt.replace('Chapter Text', ' ')\n",
    "    fan_txt = re.sub(r'\\s+', ' ', fan_txt).strip()\n",
    "    return fan_txt\n",
    "\n",
    "def convert_dir(title_dir):\n",
    "    title_path = os.path.join(home_dir, title_dir)\n",
    "    in_dir = os.path.join(title_path, html_dir)\n",
    "    out_dir = os.path.join(title_path, txt_dir)\n",
    "\n",
    "    errors = []\n",
    "    for infile in os.listdir(in_dir):\n",
    "        base, ext = os.path.splitext(infile)\n",
    "        outfile = os.path.join(out_dir, base + '.txt')\n",
    "        infile = os.path.join(in_dir, infile)\n",
    "        \n",
    "        if not os.path.exists(outfile):\n",
    "            text = get_fan_work(infile)\n",
    "            if text:\n",
    "                with open(outfile, 'w', encoding='utf-8') as out:\n",
    "                    out.write(text)\n",
    "            else:\n",
    "                errors.append(infile)\n",
    "    \n",
    "    error_outfile = os.path.join(title_path, 'errors.txt')\n",
    "    with open(error_outfile, 'w', encoding='utf-8') as out:\n",
    "        out.write('The following files were not converted:\\n\\n')\n",
    "        for e in errors:\n",
    "            out.write(e)\n",
    "            out.write('\\n')\n"
   ]
  },
  {
   "cell_type": "code",
   "execution_count": 3,
   "metadata": {
    "collapsed": false,
    "scrolled": false
   },
   "outputs": [],
   "source": [
    "convert_dir('force-awakens')"
   ]
  },
  {
   "cell_type": "code",
   "execution_count": null,
   "metadata": {
    "collapsed": true
   },
   "outputs": [],
   "source": []
  }
 ],
 "metadata": {
  "kernelspec": {
   "display_name": "Python 3",
   "language": "python",
   "name": "python3"
  },
  "language_info": {
   "codemirror_mode": {
    "name": "ipython",
    "version": 3
   },
   "file_extension": ".py",
   "mimetype": "text/x-python",
   "name": "python",
   "nbconvert_exporter": "python",
   "pygments_lexer": "ipython3",
   "version": "3.5.2"
  }
 },
 "nbformat": 4,
 "nbformat_minor": 2
}
