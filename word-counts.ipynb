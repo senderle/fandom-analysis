{
 "cells": [
  {
   "cell_type": "code",
   "execution_count": 1,
   "metadata": {
    "collapsed": true
   },
   "outputs": [],
   "source": [
    "import spacy\n",
    "sp = spacy.load('en')"
   ]
  },
  {
   "cell_type": "code",
   "execution_count": 2,
   "metadata": {
    "collapsed": true
   },
   "outputs": [],
   "source": [
    "import os\n",
    "from collections import Counter"
   ]
  },
  {
   "cell_type": "code",
   "execution_count": 8,
   "metadata": {
    "collapsed": false
   },
   "outputs": [],
   "source": [
    "def save_counts(in_dir, out_dir, \n",
    "                orth=False, lemma=False, pos=False):\n",
    "    if not any((orth, lemma, pos)):\n",
    "        orth=True\n",
    "\n",
    "    if sum((orth, lemma, pos)) != 1:\n",
    "        raise ValueError('Only one of `orth`, `lemma`, '\n",
    "                         'or `pos` may be selected.')\n",
    "\n",
    "    fan_works = os.listdir(in_dir)\n",
    "    fan_paths = [os.path.join(in_dir, f) \n",
    "                 for f in fan_works]\n",
    "    attr = (spacy.attrs.ORTH if orth else\n",
    "            spacy.attrs.LEMMA if lemma else\n",
    "            spacy.attrs.POS)\n",
    "\n",
    "    for i, w in enumerate(fan_works):\n",
    "        in_path = os.path.join(in_dir, w)\n",
    "        with open(in_path, encoding='utf-8') as fan_in:\n",
    "            fan = sp(fan_in.read())\n",
    "            \n",
    "        count = fan.count_by(attr)\n",
    "        out_path = os.path.join(out_dir, w)\n",
    "        with open(out_path, 'w', encoding='utf-8') as out:\n",
    "            data_out = sorted((c, w) for w, c in count.items())\n",
    "            data_out.reverse()\n",
    "            for c, w in data_out:\n",
    "                out.write(sp.vocab[w].lower_)\n",
    "                out.write('\\t')\n",
    "                out.write(str(c))\n",
    "                out.write('\\n')\n"
   ]
  },
  {
   "cell_type": "code",
   "execution_count": 10,
   "metadata": {
    "collapsed": false
   },
   "outputs": [],
   "source": [
    "fan_work_dir = '../fan-works/force-awakens-fullset/plaintext'\n",
    "#save_counts(fan_work_dir, 'wordcounts')\n",
    "#save_counts(fan_work_dir, 'poscounts', pos=True)\n",
    "save_counts(fan_work_dir, 'lemmacounts', lemma=True)"
   ]
  },
  {
   "cell_type": "code",
   "execution_count": null,
   "metadata": {
    "collapsed": true
   },
   "outputs": [],
   "source": []
  }
 ],
 "metadata": {
  "kernelspec": {
   "display_name": "Python 3",
   "language": "python",
   "name": "python3"
  },
  "language_info": {
   "codemirror_mode": {
    "name": "ipython",
    "version": 3
   },
   "file_extension": ".py",
   "mimetype": "text/x-python",
   "name": "python",
   "nbconvert_exporter": "python",
   "pygments_lexer": "ipython3",
   "version": "3.6.0"
  }
 },
 "nbformat": 4,
 "nbformat_minor": 2
}
