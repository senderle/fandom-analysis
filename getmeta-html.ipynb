{
 "cells": [
  {
   "cell_type": "code",
   "execution_count": 1,
   "metadata": {
    "collapsed": false
   },
   "outputs": [],
   "source": [
    "import re\n",
    "import os\n",
    "import json\n",
    "import csv\n",
    "from bs4 import BeautifulSoup"
   ]
  },
  {
   "cell_type": "code",
   "execution_count": 4,
   "metadata": {
    "collapsed": false
   },
   "outputs": [],
   "source": [
    "home_dir = '../../../../fan-works'\n",
    "html_dir = 'scraped-html'\n",
    "\n",
    "# \"AOOO_UNSPECIFIED\" specifically means that An Archive of Our Own\n",
    "# did not specify the value in their metadata fields.\n",
    "\n",
    "def select_text(soup_node, selector):\n",
    "    sel = soup_node.select(selector)\n",
    "    return sel[0].get_text().strip() if sel else 'AOOO_UNSPECIFIED'\n",
    "\n",
    "meta_headers = ['FILENAME', 'TITLE', 'AUTHOR', 'SUMMARY', 'NOTES'\n",
    "                'PUBLICATION_DATE', 'LANGUAGE', 'TAGS']\n",
    "def get_fan_meta(fan_html_name):\n",
    "    with open(fan_html_name) as fan_in:\n",
    "        fan_html = BeautifulSoup(fan_in.read(), 'lxml')\n",
    "    \n",
    "    title = select_text(fan_html, '.title.heading')\n",
    "    author = select_text(fan_html, '.byline.heading')\n",
    "    summary = select_text(fan_html, '.summary.module')\n",
    "    notes = select_text(fan_html, '.notes.module')\n",
    "    date = select_text(fan_html, 'dd.published')\n",
    "    language = select_text(fan_html, 'dd.language')\n",
    "    tags = {k.get_text().strip().strip(':'): \n",
    "            v.get_text(separator='; ').strip().strip('\\n; ') \n",
    "            for k, v in \n",
    "            zip(fan_html.select('dt.tags'), fan_html.select('dd.tags'))}\n",
    "    \n",
    "    path, filename = os.path.split(fan_html_name)\n",
    "    \n",
    "    vals = [filename, title, author, summary, notes,\n",
    "            date, language, tags]\n",
    "    return dict(zip(meta_headers, vals))\n",
    "\n",
    "def collect_meta(title_dir, out_file):\n",
    "    title_path = os.path.join(home_dir, title_dir)\n",
    "    in_dir = os.path.join(title_path, html_dir)\n",
    "\n",
    "    errors = []\n",
    "    rows = []\n",
    "    for infile in os.listdir(in_dir):\n",
    "        infile = os.path.join(in_dir, infile)\n",
    "        rows.append(get_fan_meta(infile))\n",
    "    \n",
    "    error_outfile = out_file + '-errors.txt'\n",
    "    with open(error_outfile, 'w', encoding='utf-8') as out:\n",
    "        out.write('Metadata could not be collected from the following files:\\n\\n')\n",
    "        for e in errors:\n",
    "            out.write(e)\n",
    "            out.write('\\n')\n",
    "    \n",
    "    csv_outfile = out_file + '.csv'\n",
    "    with open(csv_outfile, 'w', encoding='utf-8') as out:\n",
    "        wr = csv.DictWriter(out, fieldnames=meta_headers)\n",
    "        wr.writeheader()\n",
    "        for row in rows:\n",
    "            wr.writerow(row)"
   ]
  },
  {
   "cell_type": "code",
   "execution_count": null,
   "metadata": {
    "collapsed": false,
    "scrolled": false
   },
   "outputs": [],
   "source": [
    "collect_meta('force-awakens-fullset', 'force-awakens-fan-meta')"
   ]
  },
  {
   "cell_type": "code",
   "execution_count": null,
   "metadata": {
    "collapsed": true
   },
   "outputs": [],
   "source": []
  }
 ],
 "metadata": {
  "kernelspec": {
   "display_name": "Python 3",
   "language": "python",
   "name": "python3"
  },
  "language_info": {
   "codemirror_mode": {
    "name": "ipython",
    "version": 3
   },
   "file_extension": ".py",
   "mimetype": "text/x-python",
   "name": "python",
   "nbconvert_exporter": "python",
   "pygments_lexer": "ipython3",
   "version": "3.5.2"
  }
 },
 "nbformat": 4,
 "nbformat_minor": 2
}
